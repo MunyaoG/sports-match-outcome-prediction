{
 "cells": [
  {
   "cell_type": "code",
   "execution_count": null,
   "id": "6888bca5-cb35-4249-a5e2-1e547e3c11a5",
   "metadata": {},
   "outputs": [],
   "source": [
    "import sqlite3\n",
    "import pandas as pd\n",
    "import gradio as gr\n",
    "from itertools import permutations as perm"
   ]
  },
  {
   "cell_type": "code",
   "execution_count": null,
   "id": "02333b54-a589-45d1-b89e-196fc02014b3",
   "metadata": {},
   "outputs": [],
   "source": [
    "def decompose(n: int):\n",
    "    n_ = [i+1 for i in range(n)]\n",
    "    n_ = [i/n for i in n_]\n",
    "    n_ = [i/sum(n_) for i in n_]\n",
    "    return n_"
   ]
  },
  {
   "cell_type": "code",
   "execution_count": null,
   "id": "b55e333b-5aa3-4549-8b3b-f222f5577a22",
   "metadata": {},
   "outputs": [],
   "source": [
    "con = sqlite3.connect('database.sqlite')"
   ]
  },
  {
   "cell_type": "code",
   "execution_count": null,
   "id": "3f99ea0a-8879-4c84-9d68-a045cdbec4ac",
   "metadata": {},
   "outputs": [],
   "source": [
    "country = pd.read_sql('SELECT * FROM Country', con)\n",
    "country.head()"
   ]
  },
  {
   "cell_type": "code",
   "execution_count": null,
   "id": "bbba958d-8138-47b4-b160-360b0d6fc875",
   "metadata": {},
   "outputs": [],
   "source": [
    "league = pd.read_sql('SELECT * FROM League', con)\n",
    "league.head()"
   ]
  },
  {
   "cell_type": "code",
   "execution_count": null,
   "id": "a84f4182-4e17-4cc4-8a0e-73edefaf419c",
   "metadata": {},
   "outputs": [],
   "source": [
    "match = pd.read_sql('SELECT * FROM Match', con)\n",
    "match.head()"
   ]
  },
  {
   "cell_type": "code",
   "execution_count": null,
   "id": "70e65663-a3db-466a-9c35-e3effb81c7cf",
   "metadata": {},
   "outputs": [],
   "source": [
    "player = pd.read_sql('SELECT * FROM Player', con)\n",
    "player.head()"
   ]
  },
  {
   "cell_type": "code",
   "execution_count": null,
   "id": "7f2b1abb-7fbb-4355-b224-f7b3eb40e3ac",
   "metadata": {},
   "outputs": [],
   "source": [
    "player_att = pd.read_sql('SELECT * FROM Player_Attributes', con)\n",
    "player_att.head()"
   ]
  },
  {
   "cell_type": "code",
   "execution_count": null,
   "id": "ca742f9b-49bb-4011-a9c8-0c1aed6b5651",
   "metadata": {},
   "outputs": [],
   "source": [
    "team = pd.read_sql('SELECT * FROM Team', con)\n",
    "team.head()"
   ]
  },
  {
   "cell_type": "code",
   "execution_count": null,
   "id": "2a7b98b4-4915-4608-b7ce-d36877c7bac9",
   "metadata": {},
   "outputs": [],
   "source": [
    "team_att = pd.read_sql('SELECT * FROM Team_Attributes', con)\n",
    "team_att.head()"
   ]
  },
  {
   "cell_type": "markdown",
   "id": "94bbace9-17a0-4618-8879-bb862029064b",
   "metadata": {},
   "source": [
    "#### We will use 4 datasets:\n",
    "1. country - there are 11 countries\n",
    "2. league - there are 11; one per country\n",
    "3. match - there are 25,979 matches for 8 seasons spanning 2008/2009 to 2015/2016\n",
    "4. team - there are 299 teams"
   ]
  },
  {
   "cell_type": "markdown",
   "id": "32f83667-4fc4-44ac-9206-edc0479be9c5",
   "metadata": {},
   "source": [
    "### THE PLAN\n",
    "#### 1. Extract on the columns you'll need for each table\n",
    "* country, league, and team are fine\n",
    "* for match, pick only the needed onesm_goal',"
   ]
  },
  {
   "cell_type": "code",
   "execution_count": null,
   "id": "b5e18243-9e96-496a-8383-2b17b56dd037",
   "metadata": {},
   "outputs": [],
   "source": [
    "match = pd.read_sql('SELECT id, country_id, league_id, season, match_api_id, home_team_api_id, away_team_api_id, home_team_goal, away_team_goal FROM Match', con)"
   ]
  },
  {
   "cell_type": "code",
   "execution_count": null,
   "id": "f1032129-db1e-4b20-ac60-87d95f089822",
   "metadata": {},
   "outputs": [],
   "source": [
    "home_matches = team.merge(match, how='right', left_on='team_api_id', right_on='home_team_api_id').drop(columns=['id_x', 'id_y'])\n",
    "home_matches = home_matches.merge(country, how='left', left_on='country_id', right_on='id').drop(columns=['id'])\n",
    "home_matches = home_matches.merge(league, how='left', left_on='league_id', right_on='id').drop(columns=['id'])\n",
    "home_matches.head()"
   ]
  },
  {
   "cell_type": "code",
   "execution_count": null,
   "id": "e5ae4bee-cf5c-4e59-993a-c6b9d1e6c7bb",
   "metadata": {},
   "outputs": [],
   "source": [
    "#Clean up colum names\n",
    "home_matches.drop(columns='country_id_y', inplace=True)\n",
    "home_matches.head()"
   ]
  },
  {
   "cell_type": "code",
   "execution_count": null,
   "id": "e693ffab-55f6-4d77-a8a9-59b9de8021a9",
   "metadata": {},
   "outputs": [],
   "source": [
    "home_matches.rename(columns={'country_id_x':'country_id', 'name_x':'country', 'name_y':'league'}, inplace=True)\n",
    "home_matches.head()"
   ]
  },
  {
   "cell_type": "code",
   "execution_count": null,
   "id": "346159a3-d4eb-4ef4-bacc-35feee8ca615",
   "metadata": {},
   "outputs": [],
   "source": [
    "home_matches['home_win'] = home_matches['home_team_goal'] > home_matches['away_team_goal']\n",
    "home_matches['home_loss'] = home_matches['home_team_goal'] < home_matches['away_team_goal']\n",
    "home_matches['home_draw'] = home_matches['home_team_goal'] == home_matches['away_team_goal']\n",
    "home_matches.head()"
   ]
  },
  {
   "cell_type": "code",
   "execution_count": null,
   "id": "b93bc132-15ff-41d9-8994-ac745272f982",
   "metadata": {},
   "outputs": [],
   "source": [
    "seasons_list = sorted(match['season'].unique())\n",
    "seasons_list"
   ]
  },
  {
   "cell_type": "code",
   "execution_count": null,
   "id": "fa1229a8-f382-4e56-969d-0e1e465270df",
   "metadata": {},
   "outputs": [],
   "source": [
    "n=len(seasons_list)\n",
    "seasons = pd.DataFrame(seasons_list, columns=['season'])\n",
    "seasons['weight'] = decompose(n)\n",
    "seasons"
   ]
  },
  {
   "cell_type": "code",
   "execution_count": null,
   "id": "109b9328-be06-4d43-a607-bc4425f4daf2",
   "metadata": {
    "scrolled": true
   },
   "outputs": [],
   "source": [
    "home_matches = home_matches.merge(seasons, on='season')\n",
    "home_matches.head()"
   ]
  },
  {
   "cell_type": "code",
   "execution_count": null,
   "id": "e67755ed-91f3-4185-b65f-958aabe1c007",
   "metadata": {},
   "outputs": [],
   "source": [
    "home_matches['home_win_odds'] = home_matches['home_win']*home_matches['weight']\n",
    "home_matches['home_loss_odds'] = home_matches['home_loss']*home_matches['weight']\n",
    "home_matches['home_draw_odds'] = home_matches['home_draw']*home_matches['weight']\n",
    "home_matches.head()"
   ]
  },
  {
   "cell_type": "code",
   "execution_count": null,
   "id": "7b9398e3-fa43-43d2-a4b0-5fd4b1287dd0",
   "metadata": {},
   "outputs": [],
   "source": [
    "home_odds = home_matches.groupby(['team_api_id', 'team_long_name', 'team_short_name', 'country_id', 'league_id', 'country', 'league']).sum()\n",
    "home_odds.reset_index(inplace=True)\n",
    "home_odds.drop(columns=['season', 'match_api_id', 'home_team_api_id', 'away_team_api_id', 'weight'], inplace=True)\n",
    "home_odds.head()"
   ]
  },
  {
   "cell_type": "code",
   "execution_count": null,
   "id": "1e7da5ba-135b-4bbe-a8f4-aa6a796b6a27",
   "metadata": {},
   "outputs": [],
   "source": [
    "assert(team['id'].shape[0] == home_odds['team_api_id'].shape[0])"
   ]
  },
  {
   "cell_type": "markdown",
   "id": "531287be-c72b-4d16-9f43-bc9fc88ace65",
   "metadata": {},
   "source": [
    "# AWAY ANALYSIS"
   ]
  },
  {
   "cell_type": "code",
   "execution_count": null,
   "id": "b12a18ba-16c7-403c-9877-b8d200432450",
   "metadata": {},
   "outputs": [],
   "source": [
    "away_matches = team.merge(match, how='right', left_on='team_api_id', right_on='away_team_api_id').drop(columns=['id_x', 'id_y'])\n",
    "away_matches = away_matches.merge(country, how='left', left_on='country_id', right_on='id').drop(columns=['id'])\n",
    "away_matches = away_matches.merge(league, how='left', left_on='league_id', right_on='id').drop(columns=['id'])\n",
    "\n",
    "away_matches.drop(columns='country_id_y', inplace=True)\n",
    "away_matches.head()\n",
    "away_matches.rename(columns={'country_id_x':'country_id', 'name_x':'country', 'name_y':'league'}, inplace=True)\n",
    "\n",
    "away_matches['away_win'] = away_matches['away_team_goal'] > away_matches['home_team_goal']\n",
    "away_matches['away_loss'] = away_matches['away_team_goal'] < away_matches['home_team_goal']\n",
    "away_matches['away_draw'] = away_matches['away_team_goal'] == away_matches['home_team_goal']\n",
    "\n",
    "away_matches = away_matches.merge(seasons, on='season')\n",
    "\n",
    "away_matches['away_win_odds'] = away_matches['away_win']*away_matches['weight']\n",
    "away_matches['away_loss_odds'] = away_matches['away_loss']*away_matches['weight']\n",
    "away_matches['away_draw_odds'] = away_matches['away_draw']*away_matches['weight']\n",
    "\n",
    "away_odds = away_matches.groupby(['team_api_id', 'team_long_name', 'team_short_name', 'country_id', 'league_id', 'country', 'league']).sum()\n",
    "away_odds.reset_index(inplace=True)\n",
    "away_odds.drop(columns=['season', 'match_api_id', 'home_team_api_id', 'away_team_api_id', 'weight'], inplace=True)\n",
    "\n",
    "away_odds.head()"
   ]
  },
  {
   "cell_type": "code",
   "execution_count": null,
   "id": "c2f75fea-5ca9-48ea-8dd9-a29093b57f2e",
   "metadata": {},
   "outputs": [],
   "source": [
    "assert(team['id'].shape[0] == away_odds['team_api_id'].shape[0])"
   ]
  },
  {
   "cell_type": "code",
   "execution_count": null,
   "id": "15c2fa00-010a-4dc4-a219-a6eedd3a3a13",
   "metadata": {},
   "outputs": [],
   "source": [
    "def predict_result(home, away): # Takes in team id as integer or team short name as string\n",
    "    \n",
    "    if (type(home) == str and str.upper(home) not in list(team['team_short_name'])) or (type(away) == str and str.upper(away) not in list(team['team_short_name'])):\n",
    "        return 'ERROR: Team(s) not found!'\n",
    "\n",
    "    if type(home) == str:\n",
    "        home = team[team['team_short_name'] == str.upper(home)].reset_index()['team_api_id'][0]\n",
    "\n",
    "    if type(away) == str:\n",
    "        away = team[team['team_short_name'] == str.upper(away)].reset_index()['team_api_id'][0]\n",
    "        \n",
    "    if home not in list(team['team_api_id']) or away not in list(team['team_api_id']):\n",
    "        return 'ERROR: Team(s) not found!'\n",
    "        \n",
    "    if home == away:\n",
    "        return 'ERROR: Home team cannot be the same as away team!'\n",
    "        \n",
    "    else:\n",
    "        \n",
    "        home_team_name = team[team['team_api_id']==home].reset_index()['team_long_name'][0]\n",
    "        away_team_name = team[team['team_api_id']==away].reset_index()['team_long_name'][0]\n",
    "    \n",
    "        home_team_odds = home_odds[home_odds['team_api_id']==home][['team_api_id', 'home_win_odds', 'home_loss_odds', 'home_draw_odds']].reset_index()\n",
    "        away_team_odds = away_odds[away_odds['team_api_id']==away][['team_api_id', 'away_win_odds', 'away_loss_odds', 'away_draw_odds']].reset_index()\n",
    "        \n",
    "        home_win_odd = home_team_odds['home_win_odds'] * away_team_odds['away_loss_odds']\n",
    "        away_win_odd = home_team_odds['home_loss_odds'] * away_team_odds['away_win_odds']\n",
    "        draw_odd = home_team_odds['home_draw_odds'] * away_team_odds['away_draw_odds']\n",
    "        total_odds = home_win_odd + away_win_odd + draw_odd\n",
    "        \n",
    "        home_win_prob = (home_win_odd/total_odds)[0]\n",
    "        away_win_prob = (away_win_odd/total_odds)[0]\n",
    "        draw_prob = (draw_odd/total_odds)[0]\n",
    "    \n",
    "        return f'MATCH OUTCOME PROBABILITY\\n{home_team_name} : {home_win_prob:0.0%}\\nDraw: {draw_prob:0.0%}\\n{away_team_name} : {away_win_prob:0.0%}'\n"
   ]
  },
  {
   "cell_type": "code",
   "execution_count": null,
   "id": "87589bcb-a1df-4d31-aa05-80ecf48807bb",
   "metadata": {},
   "outputs": [],
   "source": [
    "log = pd.DataFrame(perm(sorted(team['team_short_name'].unique().tolist()), 2), columns=['home', 'away'])\n",
    "log.to_csv('log/log.csv', index=False)"
   ]
  },
  {
   "cell_type": "code",
   "execution_count": null,
   "id": "a947c43a-e681-4f27-94d2-c31a25901db3",
   "metadata": {
    "scrolled": true
   },
   "outputs": [],
   "source": [
    "interface = gr.Interface(fn=predict_result,\n",
    "                         inputs=['text', 'text'],\n",
    "                         outputs='text',\n",
    "                         #examples='log/',\n",
    "                         #flagging_mode='manual',\n",
    "                         #flagging_dir='log/',\n",
    "                         title='Predict football match outcomes in one second!!!',\n",
    "                         description='Input the home and away teams in short form.\\n\\nE.g. ARS and AVL',\n",
    "                        max_batch_size=20)\n",
    "interface.launch()"
   ]
  },
  {
   "cell_type": "code",
   "execution_count": null,
   "id": "55a2747c-8207-4db3-b20c-5811200ba63a",
   "metadata": {},
   "outputs": [],
   "source": []
  }
 ],
 "metadata": {
  "kernelspec": {
   "display_name": "Python 3 (ipykernel)",
   "language": "python",
   "name": "python3"
  },
  "language_info": {
   "codemirror_mode": {
    "name": "ipython",
    "version": 3
   },
   "file_extension": ".py",
   "mimetype": "text/x-python",
   "name": "python",
   "nbconvert_exporter": "python",
   "pygments_lexer": "ipython3",
   "version": "3.12.4"
  }
 },
 "nbformat": 4,
 "nbformat_minor": 5
}
